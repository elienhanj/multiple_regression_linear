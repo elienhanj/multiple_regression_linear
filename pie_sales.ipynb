{
  "nbformat": 4,
  "nbformat_minor": 0,
  "metadata": {
    "colab": {
      "name": "pie_sales",
      "provenance": [],
      "collapsed_sections": [],
      "authorship_tag": "ABX9TyPHwPa9neiVzSmdC3dhVj8v",
      "include_colab_link": true
    },
    "kernelspec": {
      "name": "python3",
      "display_name": "Python 3"
    }
  },
  "cells": [
    {
      "cell_type": "markdown",
      "metadata": {
        "id": "view-in-github",
        "colab_type": "text"
      },
      "source": [
        "<a href=\"https://colab.research.google.com/github/elienhanj/multiple_regression_linear/blob/main/pie_sales.ipynb\" target=\"_parent\"><img src=\"https://colab.research.google.com/assets/colab-badge.svg\" alt=\"Open In Colab\"/></a>"
      ]
    },
    {
      "cell_type": "markdown",
      "metadata": {
        "id": "de7JhA-M6jEE"
      },
      "source": [
        "# **MULTIPLE LINEAR REGRESSION**"
      ]
    },
    {
      "cell_type": "markdown",
      "metadata": {
        "id": "QuraxurY6tb1"
      },
      "source": [
        "Elien Hanjani Pramitha --\n",
        "DS0108 -- Telkom DTI 2020"
      ]
    },
    {
      "cell_type": "markdown",
      "metadata": {
        "id": "hpIR-tRx7oct"
      },
      "source": [
        "## **1. Intro**"
      ]
    },
    {
      "cell_type": "markdown",
      "metadata": {
        "id": "Y32kNxp77uTL"
      },
      "source": [
        "Multiple linier regression atau dapat disebut analisis regresi linier ganda merupakan analisis statistik yang digunakan untuk mengetahui pengaruh beberapa variabel bebas (independent) terhadap variabel terikat (dependent)."
      ]
    },
    {
      "cell_type": "markdown",
      "metadata": {
        "id": "tcxsWKEj8gBp"
      },
      "source": [
        "Pada model multiple linier regression ini, konsepnya yaitu distibutor pie frozen ingin mengevaluasi berbagai faktor yang\n",
        "dianggap mempengaruhi penjualan di minggu berikutnya."
      ]
    },
    {
      "cell_type": "markdown",
      "metadata": {
        "id": "U_EhPXV19qVT"
      },
      "source": [
        "Data yang digunakan yaitu data penjualan pie selama 15 minggu dengan keterangan sebagai berikut :\n",
        "\n",
        "*   terdapat 1 veriabel terikat (Y)/dependent variable yaitu Pie_sales (setiap penjualan pie dalam 1 minggu)\n",
        "*   terdapat 2 variabel bebas (X)/independent variables yaitu Price (dollar) dan Advertising ($100’s)\n",
        "\n",
        "Karena pada data penjualan pie ini terdapat 2 independent variables maka inilah mengapa data ini dapat diolah dengan multiple linear regression. Dimana variabel pie_sales akan dipengaruhi dengan perubahan pada variabel price dan advertising, bisa saja ketika pada minggu pertama biaya advertising lebih besar dan harga jual tinggi, karena lebih banyak konsumen yang tertarik membeli jadi pie yang terjual juga banyak, begitupun sebaliknya. Model ini akan melakukan prediksi penjualan untuk 1 minggu dimana harga jual (price) sebesar 5.50 dollar dan biaya periklanan (advertising) sebesar 350 dollar.\n",
        "\n"
      ]
    },
    {
      "cell_type": "markdown",
      "metadata": {
        "id": "jRiTUFhcB7ax"
      },
      "source": [
        "## **2. Preparing Data**"
      ]
    },
    {
      "cell_type": "markdown",
      "metadata": {
        "id": "tMz6w6UwD0Yz"
      },
      "source": [
        "Langkah pertama untuk mempermudah dalam membuat model sebaiknya yaitu menyiapkan semua library yang dibutuhkan. Pada model ini menggunakan library\n",
        "\n",
        "\n",
        "*   Pandas untuk memanggil dan menampilkan dataset berbentuk csv.\n",
        "*   Statsmodels untuk melakukan detail analisis.\n",
        "*   Linear_model dari sklearn untuk membangun model multiple linear regression.\n",
        "\n",
        "\n",
        "\n"
      ]
    },
    {
      "cell_type": "code",
      "metadata": {
        "id": "eU8fWTQBo7e3"
      },
      "source": [
        "import pandas as pd\n",
        "import statsmodels.api as sm\n",
        "from sklearn import linear_model"
      ],
      "execution_count": 12,
      "outputs": []
    },
    {
      "cell_type": "markdown",
      "metadata": {
        "id": "8dVggkpLGXsF"
      },
      "source": [
        "Langkah kedua yaitu mengimport dataset pie-sales.csv yang sudah disediakan dari github. Karena file dataset tersebut berupa csv dan setiap row dipisahkan dengan \";\" maka gunakan separator untuk menghindari missing import data."
      ]
    },
    {
      "cell_type": "code",
      "metadata": {
        "id": "X3hy6fs0pJBc",
        "outputId": "f2b749df-7797-4bbe-f8dd-499510c6074a",
        "colab": {
          "base_uri": "https://localhost:8080/",
          "height": 514
        }
      },
      "source": [
        "# Import Dataset\n",
        "df_pie = pd.read_csv('https://raw.githubusercontent.com/rc-dbe/dti/main/data/pie-sales.csv', sep =\";\")\n",
        "df_pie"
      ],
      "execution_count": 13,
      "outputs": [
        {
          "output_type": "execute_result",
          "data": {
            "text/html": [
              "<div>\n",
              "<style scoped>\n",
              "    .dataframe tbody tr th:only-of-type {\n",
              "        vertical-align: middle;\n",
              "    }\n",
              "\n",
              "    .dataframe tbody tr th {\n",
              "        vertical-align: top;\n",
              "    }\n",
              "\n",
              "    .dataframe thead th {\n",
              "        text-align: right;\n",
              "    }\n",
              "</style>\n",
              "<table border=\"1\" class=\"dataframe\">\n",
              "  <thead>\n",
              "    <tr style=\"text-align: right;\">\n",
              "      <th></th>\n",
              "      <th>week</th>\n",
              "      <th>pie_sales</th>\n",
              "      <th>price</th>\n",
              "      <th>advertising</th>\n",
              "    </tr>\n",
              "  </thead>\n",
              "  <tbody>\n",
              "    <tr>\n",
              "      <th>0</th>\n",
              "      <td>1</td>\n",
              "      <td>350</td>\n",
              "      <td>5.5</td>\n",
              "      <td>3.3</td>\n",
              "    </tr>\n",
              "    <tr>\n",
              "      <th>1</th>\n",
              "      <td>2</td>\n",
              "      <td>460</td>\n",
              "      <td>7.5</td>\n",
              "      <td>3.3</td>\n",
              "    </tr>\n",
              "    <tr>\n",
              "      <th>2</th>\n",
              "      <td>3</td>\n",
              "      <td>350</td>\n",
              "      <td>8.0</td>\n",
              "      <td>3.0</td>\n",
              "    </tr>\n",
              "    <tr>\n",
              "      <th>3</th>\n",
              "      <td>4</td>\n",
              "      <td>430</td>\n",
              "      <td>8.0</td>\n",
              "      <td>4.5</td>\n",
              "    </tr>\n",
              "    <tr>\n",
              "      <th>4</th>\n",
              "      <td>5</td>\n",
              "      <td>350</td>\n",
              "      <td>6.8</td>\n",
              "      <td>3.0</td>\n",
              "    </tr>\n",
              "    <tr>\n",
              "      <th>5</th>\n",
              "      <td>6</td>\n",
              "      <td>380</td>\n",
              "      <td>7.5</td>\n",
              "      <td>4.0</td>\n",
              "    </tr>\n",
              "    <tr>\n",
              "      <th>6</th>\n",
              "      <td>7</td>\n",
              "      <td>430</td>\n",
              "      <td>4.5</td>\n",
              "      <td>3.0</td>\n",
              "    </tr>\n",
              "    <tr>\n",
              "      <th>7</th>\n",
              "      <td>8</td>\n",
              "      <td>470</td>\n",
              "      <td>6.4</td>\n",
              "      <td>3.7</td>\n",
              "    </tr>\n",
              "    <tr>\n",
              "      <th>8</th>\n",
              "      <td>9</td>\n",
              "      <td>450</td>\n",
              "      <td>7.0</td>\n",
              "      <td>3.5</td>\n",
              "    </tr>\n",
              "    <tr>\n",
              "      <th>9</th>\n",
              "      <td>10</td>\n",
              "      <td>490</td>\n",
              "      <td>5.0</td>\n",
              "      <td>4.0</td>\n",
              "    </tr>\n",
              "    <tr>\n",
              "      <th>10</th>\n",
              "      <td>11</td>\n",
              "      <td>340</td>\n",
              "      <td>7.2</td>\n",
              "      <td>3.5</td>\n",
              "    </tr>\n",
              "    <tr>\n",
              "      <th>11</th>\n",
              "      <td>12</td>\n",
              "      <td>300</td>\n",
              "      <td>7.9</td>\n",
              "      <td>3.2</td>\n",
              "    </tr>\n",
              "    <tr>\n",
              "      <th>12</th>\n",
              "      <td>13</td>\n",
              "      <td>440</td>\n",
              "      <td>5.9</td>\n",
              "      <td>4.0</td>\n",
              "    </tr>\n",
              "    <tr>\n",
              "      <th>13</th>\n",
              "      <td>14</td>\n",
              "      <td>450</td>\n",
              "      <td>5.0</td>\n",
              "      <td>3.5</td>\n",
              "    </tr>\n",
              "    <tr>\n",
              "      <th>14</th>\n",
              "      <td>15</td>\n",
              "      <td>300</td>\n",
              "      <td>7.0</td>\n",
              "      <td>2.7</td>\n",
              "    </tr>\n",
              "  </tbody>\n",
              "</table>\n",
              "</div>"
            ],
            "text/plain": [
              "    week  pie_sales  price  advertising\n",
              "0      1        350    5.5          3.3\n",
              "1      2        460    7.5          3.3\n",
              "2      3        350    8.0          3.0\n",
              "3      4        430    8.0          4.5\n",
              "4      5        350    6.8          3.0\n",
              "5      6        380    7.5          4.0\n",
              "6      7        430    4.5          3.0\n",
              "7      8        470    6.4          3.7\n",
              "8      9        450    7.0          3.5\n",
              "9     10        490    5.0          4.0\n",
              "10    11        340    7.2          3.5\n",
              "11    12        300    7.9          3.2\n",
              "12    13        440    5.9          4.0\n",
              "13    14        450    5.0          3.5\n",
              "14    15        300    7.0          2.7"
            ]
          },
          "metadata": {
            "tags": []
          },
          "execution_count": 13
        }
      ]
    },
    {
      "cell_type": "markdown",
      "metadata": {
        "id": "Psnw2Mk-G49s"
      },
      "source": [
        "## **3. Multiple Linear Regression Using Sklearn**"
      ]
    },
    {
      "cell_type": "markdown",
      "metadata": {
        "id": "BbPMZA2FJjBN"
      },
      "source": [
        "Agar dataset penjualan pie dapat diproses pada library sklearn, langkah pertama yaitu membuat variable dengan melakukan inisialisasi variable independent (X) dan variable dependent (Y). Dimana variable X yaitu price dan advertising, variable Y yaitu pie_sales."
      ]
    },
    {
      "cell_type": "code",
      "metadata": {
        "id": "FFOZ9qHfpfYL"
      },
      "source": [
        "X=df_pie[['price','advertising']]\n",
        "Y=df_pie['pie_sales']"
      ],
      "execution_count": 14,
      "outputs": []
    },
    {
      "cell_type": "markdown",
      "metadata": {
        "id": "qnn0urthKQow"
      },
      "source": [
        "Kedua variable tersebut sudah berhasil dibuat. Sekarang, saatnya melakukan pemodelan dataset penjualan pie menggunakan multiple linear regression."
      ]
    },
    {
      "cell_type": "code",
      "metadata": {
        "id": "xQgI4U1ir4LH",
        "outputId": "03915ca1-4c83-4de3-be3e-ad9c83e30bf8",
        "colab": {
          "base_uri": "https://localhost:8080/",
          "height": 34
        }
      },
      "source": [
        "regr = linear_model.LinearRegression()\n",
        "regr.fit(X, Y)"
      ],
      "execution_count": 15,
      "outputs": [
        {
          "output_type": "execute_result",
          "data": {
            "text/plain": [
              "LinearRegression(copy_X=True, fit_intercept=True, n_jobs=None, normalize=False)"
            ]
          },
          "metadata": {
            "tags": []
          },
          "execution_count": 15
        }
      ]
    },
    {
      "cell_type": "markdown",
      "metadata": {
        "id": "FB35v_kmKo0a"
      },
      "source": [
        "Sekarang, mari mencari titik potong (b0) dan koefisien (b1, b2,… bn)."
      ]
    },
    {
      "cell_type": "markdown",
      "metadata": {
        "id": "LBLvyK5sKyVy"
      },
      "source": [
        "Catatan: Intercept hanya satu, tetapi koefisien bergantung pada jumlah variabel independen. Karena kita memiliki 2 variabel independen, kita akan memiliki 2 koefisien."
      ]
    },
    {
      "cell_type": "code",
      "metadata": {
        "id": "QYYmAv5gspJq",
        "outputId": "52324b00-b24d-4755-8187-7a223332aecd",
        "colab": {
          "base_uri": "https://localhost:8080/",
          "height": 85
        }
      },
      "source": [
        "print('Intercept: \\n', regr.intercept_)\n",
        "print('Coefficients: \\n', regr.coef_)"
      ],
      "execution_count": 16,
      "outputs": [
        {
          "output_type": "stream",
          "text": [
            "Intercept: \n",
            " 306.5261932837436\n",
            "Coefficients: \n",
            " [-24.97508952  74.13095749]\n"
          ],
          "name": "stdout"
        }
      ]
    },
    {
      "cell_type": "markdown",
      "metadata": {
        "id": "XXBOjBIcLSRl"
      },
      "source": [
        "Jadi, output dari intercept, ini menunjukkan 306.5261932837436. Intercept ini merupakan perpotongan dengan sumbu Y, yaitu jika X bernilai 0. Demikian pula, output dari koefisien ditampilkan dalam bentuk array."
      ]
    },
    {
      "cell_type": "markdown",
      "metadata": {
        "id": "r5W66vbULyPB"
      },
      "source": [
        "Sehingga dapat diketahui rumus regression linier untuk data ini yaitu :\n",
        "\n",
        "**Sales = Intercept(b0) + coefficients(b1) * Price + coefficients(b2) * Advertising**"
      ]
    },
    {
      "cell_type": "markdown",
      "metadata": {
        "id": "hbr8PYilMnZi"
      },
      "source": [
        "Saatnya melakukan prediksi penjualan untuk 1 minggu dimana harga jual (price) sebesar 5.50 dollar dan biaya periklanan (advertising) sebesar 350 dollar.\n",
        "\n",
        "**Sales = 306.5261932837436 - 24.97508952 * 5.50 + 74.13095749 * 3.5**"
      ]
    },
    {
      "cell_type": "code",
      "metadata": {
        "id": "0G6rQq_1yET7",
        "outputId": "9793860f-fca2-405f-d441-0f762575374a",
        "colab": {
          "base_uri": "https://localhost:8080/",
          "height": 51
        }
      },
      "source": [
        "# prediction with sklearn\n",
        "new_price = 5.50\n",
        "new_advertising = 3.5\n",
        "print ('Predicted  Pie Sales: \\n', regr.predict([[new_price,new_advertising]]))"
      ],
      "execution_count": 17,
      "outputs": [
        {
          "output_type": "stream",
          "text": [
            "Predicted  Pie Sales: \n",
            " [428.62155215]\n"
          ],
          "name": "stdout"
        }
      ]
    },
    {
      "cell_type": "markdown",
      "metadata": {
        "id": "v1KvgkOsMlMl"
      },
      "source": [
        "Jadi, hasil prediksi penjualan untuk 1 minggu dimana harga jual (price) sebesar 5.50 dollar dan biaya periklanan (advertising) sebesar 350 dollar sebesar 428.62155215."
      ]
    },
    {
      "cell_type": "markdown",
      "metadata": {
        "id": "8yxl9xmANun4"
      },
      "source": [
        "**Sampai disini, model multiple linear regression untuk data penjualan pie sudah selesai dibuat.**"
      ]
    },
    {
      "cell_type": "markdown",
      "metadata": {
        "id": "VwR4iTbUN6o2"
      },
      "source": [
        "## **4. Multiple Linear Regression Using Statsmodels**"
      ]
    },
    {
      "cell_type": "markdown",
      "metadata": {
        "id": "YDBmOVW-O3QI"
      },
      "source": [
        "Jika ingin lebih detail, kita bisa melakukan analisis multiple linear regresion dengan statsmodels. Statsmodels adalah modul python yang menyediakan kelas dan fungsi untuk estimasi model statistik yang berbeda, serta uji statistik yang berbeda."
      ]
    },
    {
      "cell_type": "markdown",
      "metadata": {
        "id": "NRMcgGA_PFS_"
      },
      "source": [
        "Pertama, tambahkan nilai constant dalam model :"
      ]
    },
    {
      "cell_type": "code",
      "metadata": {
        "id": "bte-Y2YTszgb"
      },
      "source": [
        "X = sm.add_constant(X) # adding a constant"
      ],
      "execution_count": 18,
      "outputs": []
    },
    {
      "cell_type": "code",
      "metadata": {
        "id": "ZUID6ogiwLqy",
        "outputId": "70fe7479-073e-4d87-a014-4175bfd40493",
        "colab": {
          "base_uri": "https://localhost:8080/",
          "height": 459
        }
      },
      "source": [
        "model = sm.OLS(Y, X).fit()\n",
        "predictions = model.predict(X) \n",
        "\n",
        "print_model = model.summary()\n",
        "print(print_model)"
      ],
      "execution_count": 19,
      "outputs": [
        {
          "output_type": "stream",
          "text": [
            "                            OLS Regression Results                            \n",
            "==============================================================================\n",
            "Dep. Variable:              pie_sales   R-squared:                       0.521\n",
            "Model:                            OLS   Adj. R-squared:                  0.442\n",
            "Method:                 Least Squares   F-statistic:                     6.539\n",
            "Date:                Sat, 17 Oct 2020   Prob (F-statistic):             0.0120\n",
            "Time:                        15:05:22   Log-Likelihood:                -77.510\n",
            "No. Observations:                  15   AIC:                             161.0\n",
            "Df Residuals:                      12   BIC:                             163.1\n",
            "Df Model:                           2                                         \n",
            "Covariance Type:            nonrobust                                         \n",
            "===============================================================================\n",
            "                  coef    std err          t      P>|t|      [0.025      0.975]\n",
            "-------------------------------------------------------------------------------\n",
            "const         306.5262    114.254      2.683      0.020      57.588     555.464\n",
            "price         -24.9751     10.832     -2.306      0.040     -48.576      -1.374\n",
            "advertising    74.1310     25.967      2.855      0.014      17.553     130.709\n",
            "==============================================================================\n",
            "Omnibus:                        1.505   Durbin-Watson:                   1.683\n",
            "Prob(Omnibus):                  0.471   Jarque-Bera (JB):                0.937\n",
            "Skew:                           0.595   Prob(JB):                        0.626\n",
            "Kurtosis:                       2.709   Cond. No.                         72.2\n",
            "==============================================================================\n",
            "\n",
            "Warnings:\n",
            "[1] Standard Errors assume that the covariance matrix of the errors is correctly specified.\n"
          ],
          "name": "stdout"
        }
      ]
    },
    {
      "cell_type": "markdown",
      "metadata": {
        "id": "xAA18soVPjme"
      },
      "source": [
        "Dari data tersebut, dapat diketahui nilai koefisien dan intersep yang kita temukan sebelumnya sepadan dengan keluaran dari statsmodels smpi.\n",
        "Karenanya, itu menyelesaikan pekerjaan kita. Kami telah berhasil menerapkan model regresi linier berganda menggunakan sklearn.linear_model dan statsmodels."
      ]
    }
  ]
}