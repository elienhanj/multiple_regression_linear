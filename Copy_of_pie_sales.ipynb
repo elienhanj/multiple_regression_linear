{
  "nbformat": 4,
  "nbformat_minor": 0,
  "metadata": {
    "colab": {
      "name": "Copy of pie_sales",
      "provenance": [],
      "collapsed_sections": [],
      "authorship_tag": "ABX9TyNoQDbju7+FT4RG0OivsZIZ",
      "include_colab_link": true
    },
    "kernelspec": {
      "name": "python3",
      "display_name": "Python 3"
    }
  },
  "cells": [
    {
      "cell_type": "markdown",
      "metadata": {
        "id": "view-in-github",
        "colab_type": "text"
      },
      "source": [
        "<a href=\"https://colab.research.google.com/github/elienhanj/multiple_regression_linear/blob/main/Copy_of_pie_sales.ipynb\" target=\"_parent\"><img src=\"https://colab.research.google.com/assets/colab-badge.svg\" alt=\"Open In Colab\"/></a>"
      ]
    },
    {
      "cell_type": "markdown",
      "metadata": {
        "id": "de7JhA-M6jEE"
      },
      "source": [
        "# **MULTIPLE LINEAR REGRESSION**"
      ]
    },
    {
      "cell_type": "markdown",
      "metadata": {
        "id": "QuraxurY6tb1"
      },
      "source": [
        "Elien Hanjani Pramitha --\n",
        "DS0108 -- Telkom DTI 2020"
      ]
    },
    {
      "cell_type": "markdown",
      "metadata": {
        "id": "hpIR-tRx7oct"
      },
      "source": [
        "## **1. Intro**"
      ]
    },
    {
      "cell_type": "markdown",
      "metadata": {
        "id": "Y32kNxp77uTL"
      },
      "source": [
        "Multiple linier regression atau dapat disebut analisis regresi linier ganda merupakan analisis statistik yang digunakan untuk mengetahui pengaruh beberapa variabel bebas (independent) terhadap variabel terikat (dependent)."
      ]
    },
    {
      "cell_type": "markdown",
      "metadata": {
        "id": "tcxsWKEj8gBp"
      },
      "source": [
        "Pada model multiple linier regression ini, konsepnya yaitu distibutor pie frozen ingin mengevaluasi berbagai faktor yang\n",
        "dianggap mempengaruhi penjualan di minggu berikutnya."
      ]
    },
    {
      "cell_type": "markdown",
      "metadata": {
        "id": "U_EhPXV19qVT"
      },
      "source": [
        "Data yang digunakan yaitu data penjualan pie selama 15 minggu dengan keterangan sebagai berikut :\n",
        "\n",
        "*   terdapat 1 veriabel terikat (Y)/dependent variable yaitu Pie_sales (setiap penjualan pie dalam 1 minggu)\n",
        "*   terdapat 2 variabel bebas (X)/independent variables yaitu Price (dollar) dan Advertising ($100’s)\n",
        "\n",
        "Karena pada data penjualan pie ini terdapat 2 independent variables maka inilah mengapa data ini dapat diolah dengan multiple linear regression. Dimana variabel pie_sales akan dipengaruhi dengan perubahan pada variabel price dan advertising, bisa saja ketika pada minggu pertama biaya advertising lebih besar dan harga jual tinggi, karena lebih banyak konsumen yang tertarik membeli jadi pie yang terjual juga banyak, begitupun sebaliknya. Model ini akan melakukan prediksi penjualan untuk 1 minggu dimana harga jual (price) sebesar 5.50 dollar dan biaya periklanan (advertising) sebesar 350 dollar.\n",
        "\n"
      ]
    },
    {
      "cell_type": "markdown",
      "metadata": {
        "id": "jRiTUFhcB7ax"
      },
      "source": [
        "## **2. Preparing Data**"
      ]
    },
    {
      "cell_type": "markdown",
      "metadata": {
        "id": "tMz6w6UwD0Yz"
      },
      "source": [
        "Langkah pertama untuk mempermudah dalam membuat model sebaiknya yaitu menyiapkan semua library yang dibutuhkan. Pada model ini menggunakan library\n",
        "\n",
        "\n",
        "*   Pandas untuk memanggil dan menampilkan dataset berbentuk csv.\n",
        "*   Statsmodels untuk melakukan detail analisis.\n",
        "*   Linear_model dari sklearn untuk membangun model multiple linear regression.\n",
        "\n",
        "\n",
        "\n"
      ]
    },
    {
      "cell_type": "code",
      "metadata": {
        "id": "eU8fWTQBo7e3"
      },
      "source": [
        "import pandas as pd\n",
        "import statsmodels.api as sm\n",
        "from sklearn import linear_model"
      ],
      "execution_count": null,
      "outputs": []
    },
    {
      "cell_type": "markdown",
      "metadata": {
        "id": "8dVggkpLGXsF"
      },
      "source": [
        "Langkah kedua yaitu mengimport dataset pie-sales.csv yang sudah disediakan dari github. Karena file dataset tersebut berupa csv dan setiap row dipisahkan dengan \";\" maka gunakan separator untuk menghindari missing import data."
      ]
    },
    {
      "cell_type": "code",
      "metadata": {
        "id": "X3hy6fs0pJBc",
        "outputId": "f2b749df-7797-4bbe-f8dd-499510c6074a",
        "colab": {
          "base_uri": "https://localhost:8080/",
          "height": 514
        }
      },
      "source": [
        "# Import Dataset\n",
        "df_pie = pd.read_csv('https://raw.githubusercontent.com/rc-dbe/dti/main/data/pie-sales.csv', sep =\";\")\n",
        "df_pie"
      ],
      "execution_count": null,
      "outputs": [
        {
          "output_type": "execute_result",
          "data": {
            "text/html": [
              "<div>\n",
              "<style scoped>\n",
              "    .dataframe tbody tr th:only-of-type {\n",
              "        vertical-align: middle;\n",
              "    }\n",
              "\n",
              "    .dataframe tbody tr th {\n",
              "        vertical-align: top;\n",
              "    }\n",
              "\n",
              "    .dataframe thead th {\n",
              "        text-align: right;\n",
              "    }\n",
              "</style>\n",
              "<table border=\"1\" class=\"dataframe\">\n",
              "  <thead>\n",
              "    <tr style=\"text-align: right;\">\n",
              "      <th></th>\n",
              "      <th>week</th>\n",
              "      <th>pie_sales</th>\n",
              "      <th>price</th>\n",
              "      <th>advertising</th>\n",
              "    </tr>\n",
              "  </thead>\n",
              "  <tbody>\n",
              "    <tr>\n",
              "      <th>0</th>\n",
              "      <td>1</td>\n",
              "      <td>350</td>\n",
              "      <td>5.5</td>\n",
              "      <td>3.3</td>\n",
              "    </tr>\n",
              "    <tr>\n",
              "      <th>1</th>\n",
              "      <td>2</td>\n",
              "      <td>460</td>\n",
              "      <td>7.5</td>\n",
              "      <td>3.3</td>\n",
              "    </tr>\n",
              "    <tr>\n",
              "      <th>2</th>\n",
              "      <td>3</td>\n",
              "      <td>350</td>\n",
              "      <td>8.0</td>\n",
              "      <td>3.0</td>\n",
              "    </tr>\n",
              "    <tr>\n",
              "      <th>3</th>\n",
              "      <td>4</td>\n",
              "      <td>430</td>\n",
              "      <td>8.0</td>\n",
              "      <td>4.5</td>\n",
              "    </tr>\n",
              "    <tr>\n",
              "      <th>4</th>\n",
              "      <td>5</td>\n",
              "      <td>350</td>\n",
              "      <td>6.8</td>\n",
              "      <td>3.0</td>\n",
              "    </tr>\n",
              "    <tr>\n",
              "      <th>5</th>\n",
              "      <td>6</td>\n",
              "      <td>380</td>\n",
              "      <td>7.5</td>\n",
              "      <td>4.0</td>\n",
              "    </tr>\n",
              "    <tr>\n",
              "      <th>6</th>\n",
              "      <td>7</td>\n",
              "      <td>430</td>\n",
              "      <td>4.5</td>\n",
              "      <td>3.0</td>\n",
              "    </tr>\n",
              "    <tr>\n",
              "      <th>7</th>\n",
              "      <td>8</td>\n",
              "      <td>470</td>\n",
              "      <td>6.4</td>\n",
              "      <td>3.7</td>\n",
              "    </tr>\n",
              "    <tr>\n",
              "      <th>8</th>\n",
              "      <td>9</td>\n",
              "      <td>450</td>\n",
              "      <td>7.0</td>\n",
              "      <td>3.5</td>\n",
              "    </tr>\n",
              "    <tr>\n",
              "      <th>9</th>\n",
              "      <td>10</td>\n",
              "      <td>490</td>\n",
              "      <td>5.0</td>\n",
              "      <td>4.0</td>\n",
              "    </tr>\n",
              "    <tr>\n",
              "      <th>10</th>\n",
              "      <td>11</td>\n",
              "      <td>340</td>\n",
              "      <td>7.2</td>\n",
              "      <td>3.5</td>\n",
              "    </tr>\n",
              "    <tr>\n",
              "      <th>11</th>\n",
              "      <td>12</td>\n",
              "      <td>300</td>\n",
              "      <td>7.9</td>\n",
              "      <td>3.2</td>\n",
              "    </tr>\n",
              "    <tr>\n",
              "      <th>12</th>\n",
              "      <td>13</td>\n",
              "      <td>440</td>\n",
              "      <td>5.9</td>\n",
              "      <td>4.0</td>\n",
              "    </tr>\n",
              "    <tr>\n",
              "      <th>13</th>\n",
              "      <td>14</td>\n",
              "      <td>450</td>\n",
              "      <td>5.0</td>\n",
              "      <td>3.5</td>\n",
              "    </tr>\n",
              "    <tr>\n",
              "      <th>14</th>\n",
              "      <td>15</td>\n",
              "      <td>300</td>\n",
              "      <td>7.0</td>\n",
              "      <td>2.7</td>\n",
              "    </tr>\n",
              "  </tbody>\n",
              "</table>\n",
              "</div>"
            ],
            "text/plain": [
              "    week  pie_sales  price  advertising\n",
              "0      1        350    5.5          3.3\n",
              "1      2        460    7.5          3.3\n",
              "2      3        350    8.0          3.0\n",
              "3      4        430    8.0          4.5\n",
              "4      5        350    6.8          3.0\n",
              "5      6        380    7.5          4.0\n",
              "6      7        430    4.5          3.0\n",
              "7      8        470    6.4          3.7\n",
              "8      9        450    7.0          3.5\n",
              "9     10        490    5.0          4.0\n",
              "10    11        340    7.2          3.5\n",
              "11    12        300    7.9          3.2\n",
              "12    13        440    5.9          4.0\n",
              "13    14        450    5.0          3.5\n",
              "14    15        300    7.0          2.7"
            ]
          },
          "metadata": {
            "tags": []
          },
          "execution_count": 13
        }
      ]
    },
    {
      "cell_type": "markdown",
      "metadata": {
        "id": "Psnw2Mk-G49s"
      },
      "source": [
        "## **3. Multiple Linear Regression Using Sklearn**"
      ]
    },
    {
      "cell_type": "markdown",
      "metadata": {
        "id": "BbPMZA2FJjBN"
      },
      "source": [
        "Agar dataset penjualan pie dapat diproses pada library sklearn, langkah pertama yaitu membuat variable dengan melakukan inisialisasi variable independent (X) dan variable dependent (Y). Dimana variable X yaitu price dan advertising, variable Y yaitu pie_sales."
      ]
    },
    {
      "cell_type": "code",
      "metadata": {
        "id": "FFOZ9qHfpfYL"
      },
      "source": [
        "X=df_pie[['price','advertising']]\n",
        "Y=df_pie['pie_sales']"
      ],
      "execution_count": null,
      "outputs": []
    },
    {
      "cell_type": "markdown",
      "metadata": {
        "id": "qnn0urthKQow"
      },
      "source": [
        "Kedua variable tersebut sudah berhasil dibuat. Sekarang, saatnya melakukan pemodelan dataset penjualan pie menggunakan multiple linear regression."
      ]
    },
    {
      "cell_type": "code",
      "metadata": {
        "id": "xQgI4U1ir4LH",
        "outputId": "03915ca1-4c83-4de3-be3e-ad9c83e30bf8",
        "colab": {
          "base_uri": "https://localhost:8080/",
          "height": 34
        }
      },
      "source": [
        "regr = linear_model.LinearRegression()\n",
        "regr.fit(X, Y)"
      ],
      "execution_count": null,
      "outputs": [
        {
          "output_type": "execute_result",
          "data": {
            "text/plain": [
              "LinearRegression(copy_X=True, fit_intercept=True, n_jobs=None, normalize=False)"
            ]
          },
          "metadata": {
            "tags": []
          },
          "execution_count": 15
        }
      ]
    },
    {
      "cell_type": "markdown",
      "metadata": {
        "id": "FB35v_kmKo0a"
      },
      "source": [
        "Sekarang, mari mencari titik potong (b0) dan koefisien (b1, b2,… bn)."
      ]
    },
    {
      "cell_type": "markdown",
      "metadata": {
        "id": "LBLvyK5sKyVy"
      },
      "source": [
        "Catatan: Intercept hanya satu, tetapi koefisien bergantung pada jumlah variabel independen. Karena kita memiliki 2 variabel independen, kita akan memiliki 2 koefisien."
      ]
    },
    {
      "cell_type": "code",
      "metadata": {
        "id": "QYYmAv5gspJq",
        "outputId": "52324b00-b24d-4755-8187-7a223332aecd",
        "colab": {
          "base_uri": "https://localhost:8080/",
          "height": 85
        }
      },
      "source": [
        "print('Intercept: \\n', regr.intercept_)\n",
        "print('Coefficients: \\n', regr.coef_)"
      ],
      "execution_count": null,
      "outputs": [
        {
          "output_type": "stream",
          "text": [
            "Intercept: \n",
            " 306.5261932837436\n",
            "Coefficients: \n",
            " [-24.97508952  74.13095749]\n"
          ],
          "name": "stdout"
        }
      ]
    },
    {
      "cell_type": "markdown",
      "metadata": {
        "id": "XXBOjBIcLSRl"
      },
      "source": [
        "Jadi, output dari intercept, ini menunjukkan 306.5261932837436. Intercept ini merupakan perpotongan dengan sumbu Y, yaitu jika X bernilai 0. Demikian pula, output dari koefisien ditampilkan dalam bentuk array."
      ]
    },
    {
      "cell_type": "markdown",
      "metadata": {
        "id": "r5W66vbULyPB"
      },
      "source": [
        "Sehingga dapat diketahui rumus regression linier untuk data ini yaitu :\n",
        "\n",
        "**Sales = Intercept(b0) + coefficients(b1) * Price + coefficients(b2) * Advertising**"
      ]
    },
    {
      "cell_type": "markdown",
      "metadata": {
        "id": "hbr8PYilMnZi"
      },
      "source": [
        "Saatnya melakukan prediksi penjualan untuk 1 minggu dimana harga jual (price) sebesar 5.50 dollar dan biaya periklanan (advertising) sebesar 350 dollar.\n",
        "\n",
        "**Sales = 306.5261932837436 - 24.97508952 * 5.50 + 74.13095749 * 3.5**"
      ]
    },
    {
      "cell_type": "code",
      "metadata": {
        "id": "0G6rQq_1yET7",
        "outputId": "9793860f-fca2-405f-d441-0f762575374a",
        "colab": {
          "base_uri": "https://localhost:8080/",
          "height": 51
        }
      },
      "source": [
        "# prediction with sklearn\n",
        "new_price = 5.50\n",
        "new_advertising = 3.5\n",
        "print ('Predicted  Pie Sales: \\n', regr.predict([[new_price,new_advertising]]))"
      ],
      "execution_count": null,
      "outputs": [
        {
          "output_type": "stream",
          "text": [
            "Predicted  Pie Sales: \n",
            " [428.62155215]\n"
          ],
          "name": "stdout"
        }
      ]
    },
    {
      "cell_type": "markdown",
      "metadata": {
        "id": "v1KvgkOsMlMl"
      },
      "source": [
        "Jadi, hasil prediksi penjualan untuk 1 minggu dimana harga jual (price) sebesar 5.50 dollar dan biaya periklanan (advertising) sebesar 350 dollar sebesar 428.62155215."
      ]
    },
    {
      "cell_type": "markdown",
      "metadata": {
        "id": "8yxl9xmANun4"
      },
      "source": [
        "**Sampai disini, model multiple linear regression untuk data penjualan pie sudah selesai dibuat.**"
      ]
    },
    {
      "cell_type": "markdown",
      "metadata": {
        "id": "VwR4iTbUN6o2"
      },
      "source": [
        "## **4. Multiple Linear Regression Using Statsmodels**"
      ]
    },
    {
      "cell_type": "markdown",
      "metadata": {
        "id": "YDBmOVW-O3QI"
      },
      "source": [
        "Jika ingin lebih detail, kita bisa melakukan analisis multiple linear regresion dengan statsmodels. Statsmodels adalah modul python yang menyediakan kelas dan fungsi untuk estimasi model statistik yang berbeda, serta uji statistik yang berbeda."
      ]
    },
    {
      "cell_type": "markdown",
      "metadata": {
        "id": "NRMcgGA_PFS_"
      },
      "source": [
        "Pertama, tambahkan nilai constant dalam model :"
      ]
    },
    {
      "cell_type": "code",
      "metadata": {
        "id": "bte-Y2YTszgb"
      },
      "source": [
        "X = sm.add_constant(X) # adding a constant"
      ],
      "execution_count": null,
      "outputs": []
    },
    {
      "cell_type": "code",
      "metadata": {
        "id": "ZUID6ogiwLqy",
        "outputId": "70fe7479-073e-4d87-a014-4175bfd40493",
        "colab": {
          "base_uri": "https://localhost:8080/",
          "height": 459
        }
      },
      "source": [
        "model = sm.OLS(Y, X).fit()\n",
        "predictions = model.predict(X) \n",
        "\n",
        "print_model = model.summary()\n",
        "print(print_model)"
      ],
      "execution_count": null,
      "outputs": [
        {
          "output_type": "stream",
          "text": [
            "                            OLS Regression Results                            \n",
            "==============================================================================\n",
            "Dep. Variable:              pie_sales   R-squared:                       0.521\n",
            "Model:                            OLS   Adj. R-squared:                  0.442\n",
            "Method:                 Least Squares   F-statistic:                     6.539\n",
            "Date:                Sat, 17 Oct 2020   Prob (F-statistic):             0.0120\n",
            "Time:                        15:05:22   Log-Likelihood:                -77.510\n",
            "No. Observations:                  15   AIC:                             161.0\n",
            "Df Residuals:                      12   BIC:                             163.1\n",
            "Df Model:                           2                                         \n",
            "Covariance Type:            nonrobust                                         \n",
            "===============================================================================\n",
            "                  coef    std err          t      P>|t|      [0.025      0.975]\n",
            "-------------------------------------------------------------------------------\n",
            "const         306.5262    114.254      2.683      0.020      57.588     555.464\n",
            "price         -24.9751     10.832     -2.306      0.040     -48.576      -1.374\n",
            "advertising    74.1310     25.967      2.855      0.014      17.553     130.709\n",
            "==============================================================================\n",
            "Omnibus:                        1.505   Durbin-Watson:                   1.683\n",
            "Prob(Omnibus):                  0.471   Jarque-Bera (JB):                0.937\n",
            "Skew:                           0.595   Prob(JB):                        0.626\n",
            "Kurtosis:                       2.709   Cond. No.                         72.2\n",
            "==============================================================================\n",
            "\n",
            "Warnings:\n",
            "[1] Standard Errors assume that the covariance matrix of the errors is correctly specified.\n"
          ],
          "name": "stdout"
        }
      ]
    },
    {
      "cell_type": "markdown",
      "metadata": {
        "id": "xAA18soVPjme"
      },
      "source": [
        "Dari data tersebut, dapat diketahui nilai koefisien dan intersep yang kita temukan sebelumnya menggunakan sklearn sama dengan keluaran dari statsmodels."
      ]
    },
    {
      "cell_type": "markdown",
      "metadata": {
        "id": "O6ozAbcmqEJz"
      },
      "source": [
        "Dengan menggunakan statsmodel ini, selain dapat melihat nilai koefisien dan intersep, kita juga dapat melihat nilai dari :"
      ]
    },
    {
      "cell_type": "markdown",
      "metadata": {
        "id": "z5w56jxlrXU_"
      },
      "source": [
        "*   R-squared = coefficient of determination adalah porsi variasi total\n",
        "di dependent variable yang dijelaskan oleh variasi dalam\n",
        "independent variable. Coefficient of determination bisa disebut sebagai R-squared yang dilambangkan dengan r2. Untuk melakukan perhitungan r2, dilakukan dengan menggunakan rumus : ![r2.JPG](data:image/jpeg;base64,/9j/4AAQSkZJRgABAQEAYABgAAD/4RDgRXhpZgAATU0AKgAAAAgABAE7AAIAAAAHAAAISodpAAQAAAABAAAIUpydAAEAAAAOAAAQyuocAAcAAAgMAAAAPgAAAAAc6gAAAAgAAAAAAAAAAAAAAAAAAAAAAAAAAAAAAAAAAAAAAAAAAAAAAAAAAAAAAAAAAAAAAAAAAAAAAAAAAAAAAAAAAAAAAAAAAAAAAAAAAAAAAAAAAAAAAAAAAAAAAAAAAAAAAAAAAAAAAAAAAAAAAAAAAAAAAAAAAAAAAAAAAAAAAAAAAAAAAAAAAAAAAAAAAAAAAAAAAAAAAAAAAAAAAAAAAAAAAAAAAAAAAAAAAAAAAAAAAAAAAAAAAAAAAAAAAAAAAAAAAAAAAAAAAAAAAAAAAAAAAAAAAAAAAAAAAAAAAAAAAAAAAAAAAAAAAAAAAAAAAAAAAAAAAAAAAAAAAAAAAAAAAAAAAAAAAAAAAAAAAAAAAAAAAAAAAAAAAAAAAAAAAAAAAAAAAAAAAAAAAAAAAAAAAAAAAAAAAAAAAAAAAAAAAAAAAAAAAAAAAAAAAAAAAAAAAAAAAAAAAAAAAAAAAAAAAAAAAAAAAAAAAAAAAAAAAAAAAAAAAAAAAAAAAAAAAAAAAAAAAAAAAAAAAAAAAAAAAAAAAAAAAAAAAAAAAAAAAAAAAAAAAAAAAAAAAAAAAAAAAAAAAAAAAAAAAAAAAAAAAAAAAAAAAAAAAAAAAAAAAAAAAAAAAAAAAAAAAAAAAAAAAAAAAAAAAAAAAAAAAAAAAAAAAAAAAAAAAAAAAAAAAAAAAAAAAAAAAAAAAAAAAAAAAAAAAAAAAAAAAAAAAAAAAAAAAAAAAAAAAAAAAAAAAAAAAAAAAAAAAAAAAAAAAAAAAAAAAAAAAAAAAAAAAAAAAAAAAAAAAAAAAAAAAAAAAAAAAAAAAAAAAAAAAAAAAAAAAAAAAAAAAAAAAAAAAAAAAAAAAAAAAAAAAAAAAAAAAAAAAAAAAAAAAAAAAAAAAAAAAAAAAAAAAAAAAAAAAAAAAAAAAAAAAAAAAAAAAAAAAAAAAAAAAAAAAAAAAAAAAAAAAAAAAAAAAAAAAAAAAAAAAAAAAAAAAAAAAAAAAAAAAAAAAAAAAAAAAAAAAAAAAAAAAAAAAAAAAAAAAAAAAAAAAAAAAAAAAAAAAAAAAAAAAAAAAAAAAAAAAAAAAAAAAAAAAAAAAAAAAAAAAAAAAAAAAAAAAAAAAAAAAAAAAAAAAAAAAAAAAAAAAAAAAAAAAAAAAAAAAAAAAAAAAAAAAAAAAAAAAAAAAAAAAAAAAAAAAAAAAAAAAAAAAAAAAAAAAAAAAAAAAAAAAAAAAAAAAAAAAAAAAAAAAAAAAAAAAAAAAAAAAAAAAAAAAAAAAAAAAAAAAAAAAAAAAAAAAAAAAAAAAAAAAAAAAAAAAAAAAAAAAAAAAAAAAAAAAAAAAAAAAAAAAAAAAAAAAAAAAAAAAAAAAAAAAAAAAAAAAAAAAAAAAAAAAAAAAAAAAAAAAAAAAAAAAAAAAAAAAAAAAAAAAAAAAAAAAAAAAAAAAAAAAAAAAAAAAAAAAAAAAAAAAAAAAAAAAAAAAAAAAAAAAAAAAAAAAAAAAAAAAAAAAAAAAAAAAAAAAAAAAAAAAAAAAAAAAAAAAAAAAAAAAAAAAAAAAAAAAAAAAAAAAAAAAAAAAAAAAAAAAAAAAAAAAAAAAAAAAAAAAAAAAAAAAAAAAAAAAAAAAAAAAAAAAAAAAAAAAAAAAAAAAAAAAAAAAAAAAAAAAAAAAAAAAAAAAAAAAAAAAAAAAAAAAAAAAAAAAAAAAAAAAAAAAAAAAAAAAAAAAAAAAAAAAAAAAAAAAAAAAAAAAAAAAAAAAAAAAAAAAAAAAAAAAAAAAAAAAAAAAAAAAAAAAAAAAAAAAAAAAAAAAAAAAAAAAAAAAAAAAAAAAAAAAAAAAAAAAAAAAAAAAAAAAAAAAAAAAAAAAAAAAAAAAAAAAAAAAAAAAAAAAAAAAAAAAAAAAAAAAAAAAAAAAAAAAAAAAAAAAAAAAAAAAAAAAAAAAAAAAAAAAAAAAAAAAAAAAAAAAAAAAAAAAAAAAAAAAAAAAAAAAAAAAAAAAAAAAAAAAAAAAAAAAAAAAAAAAAAAAAAAAAAAAAAAAAAAAAAAAAAAAAAAAAAAAAAAAAAAAAAAAAAAAAAAAAAAAAAAAAAAAAAAAAAAAAAAAAAAAAAAAAAAAAAAAAAAAAAAAAAAAAAAAAAAAAAAAAAAAAAAAAAAAAAAAAAAAAAAAAAAAAAAAAAAAAAAAAAAAAAAAAAAAAAAAAAAAAAAAAAAAAAAAAAAAAAAAAAAAAAAAAAAAAAAAAAAAAAAAAAAAAAAAAAAAAAAAAAAAAAAAAAAAAAAAAAAAAAAAAAAAAAAAAAAAAAAAAAAAAAAAAAAAAAAAAAAAAAAAAAAAAAAAAAAAAAAAAAAAAAAAAAAAAAAAAAAAAAAAAAAAAAAAAAAAAAAAAAAAAAAAAAAAAAAAAAAAAAAAAAAAAAAAAAAAAAAAAAAAAAAAAAAAAAAAAAAAAAAAAAAAAAAAAAAAAAAAAAAAAAAAAAAAAAAAAAAAAAAAAAAAAAAAAAAAAAAAAAAAAAAAAAAAAAAAAAAAAAAAAAAAAAAAAAAAAAAAAAAAAAAAAAAAAAAAAAAAAAAAAAAAAAAAAAAAAAAAAAAAAAAAAAAAAAAAAAAAAAAAAAAAAAAAAAAAAAAAAAAAAAAAAAAAAAAAAAAAAAAAAAAAAAAAAAAAAAAAAAAAAAAAAAAAAAAAAAAAAAAAAAAAAAAAAAAAAAAAAAAAAAAAAAAAAAAAAAAAAAAAAAAAAAAAAAAAAAAAExFTk9WTwAAAAWQAwACAAAAFAAAEKCQBAACAAAAFAAAELSSkQACAAAAAzYwAACSkgACAAAAAzYwAADqHAAHAAAIDAAACJQAAAAAHOoAAAAIAAAAAAAAAAAAAAAAAAAAAAAAAAAAAAAAAAAAAAAAAAAAAAAAAAAAAAAAAAAAAAAAAAAAAAAAAAAAAAAAAAAAAAAAAAAAAAAAAAAAAAAAAAAAAAAAAAAAAAAAAAAAAAAAAAAAAAAAAAAAAAAAAAAAAAAAAAAAAAAAAAAAAAAAAAAAAAAAAAAAAAAAAAAAAAAAAAAAAAAAAAAAAAAAAAAAAAAAAAAAAAAAAAAAAAAAAAAAAAAAAAAAAAAAAAAAAAAAAAAAAAAAAAAAAAAAAAAAAAAAAAAAAAAAAAAAAAAAAAAAAAAAAAAAAAAAAAAAAAAAAAAAAAAAAAAAAAAAAAAAAAAAAAAAAAAAAAAAAAAAAAAAAAAAAAAAAAAAAAAAAAAAAAAAAAAAAAAAAAAAAAAAAAAAAAAAAAAAAAAAAAAAAAAAAAAAAAAAAAAAAAAAAAAAAAAAAAAAAAAAAAAAAAAAAAAAAAAAAAAAAAAAAAAAAAAAAAAAAAAAAAAAAAAAAAAAAAAAAAAAAAAAAAAAAAAAAAAAAAAAAAAAAAAAAAAAAAAAAAAAAAAAAAAAAAAAAAAAAAAAAAAAAAAAAAAAAAAAAAAAAAAAAAAAAAAAAAAAAAAAAAAAAAAAAAAAAAAAAAAAAAAAAAAAAAAAAAAAAAAAAAAAAAAAAAAAAAAAAAAAAAAAAAAAAAAAAAAAAAAAAAAAAAAAAAAAAAAAAAAAAAAAAAAAAAAAAAAAAAAAAAAAAAAAAAAAAAAAAAAAAAAAAAAAAAAAAAAAAAAAAAAAAAAAAAAAAAAAAAAAAAAAAAAAAAAAAAAAAAAAAAAAAAAAAAAAAAAAAAAAAAAAAAAAAAAAAAAAAAAAAAAAAAAAAAAAAAAAAAAAAAAAAAAAAAAAAAAAAAAAAAAAAAAAAAAAAAAAAAAAAAAAAAAAAAAAAAAAAAAAAAAAAAAAAAAAAAAAAAAAAAAAAAAAAAAAAAAAAAAAAAAAAAAAAAAAAAAAAAAAAAAAAAAAAAAAAAAAAAAAAAAAAAAAAAAAAAAAAAAAAAAAAAAAAAAAAAAAAAAAAAAAAAAAAAAAAAAAAAAAAAAAAAAAAAAAAAAAAAAAAAAAAAAAAAAAAAAAAAAAAAAAAAAAAAAAAAAAAAAAAAAAAAAAAAAAAAAAAAAAAAAAAAAAAAAAAAAAAAAAAAAAAAAAAAAAAAAAAAAAAAAAAAAAAAAAAAAAAAAAAAAAAAAAAAAAAAAAAAAAAAAAAAAAAAAAAAAAAAAAAAAAAAAAAAAAAAAAAAAAAAAAAAAAAAAAAAAAAAAAAAAAAAAAAAAAAAAAAAAAAAAAAAAAAAAAAAAAAAAAAAAAAAAAAAAAAAAAAAAAAAAAAAAAAAAAAAAAAAAAAAAAAAAAAAAAAAAAAAAAAAAAAAAAAAAAAAAAAAAAAAAAAAAAAAAAAAAAAAAAAAAAAAAAAAAAAAAAAAAAAAAAAAAAAAAAAAAAAAAAAAAAAAAAAAAAAAAAAAAAAAAAAAAAAAAAAAAAAAAAAAAAAAAAAAAAAAAAAAAAAAAAAAAAAAAAAAAAAAAAAAAAAAAAAAAAAAAAAAAAAAAAAAAAAAAAAAAAAAAAAAAAAAAAAAAAAAAAAAAAAAAAAAAAAAAAAAAAAAAAAAAAAAAAAAAAAAAAAAAAAAAAAAAAAAAAAAAAAAAAAAAAAAAAAAAAAAAAAAAAAAAAAAAAAAAAAAAAAAAAAAAAAAAAAAAAAAAAAAAAAAAAAAAAAAAAAAAAAAAAAAAAAAAAAAAAAAAAAAAAAAAAAAAAAAAAAAAAAAAAAAAAAAAAAAAAAAAAAAAAAAAAAAAAAAAAAAAAAAAAAAAAAAAAAAAAAAAAAAAAAAAAAAAAAAAAAAAAAAAAAAAAAAAAAAAAAAAAAAAAAAAAAAAAAAAAAAAAAAAAAAAAAAAAAAAAAAAAAAAAAAAAAAAAAAAAAAAAAAAAAAAAAAAAAAAAAAAAAAAAAAAAAAAAAAAAAAAAAAAAAAAAAAAAAAAAAAAAAAAAAAAAAAAAAAAAAAAAAAAAAAAAAAAAAAAAAAAAAAAAAAAAAAAAAAAAAAAAAAAAAAAAAAAAAAAAAAAAAAAAAAAAAAAAAAAAAAAAAAAAAAAAAAAAAAAAAAAAAAAAAAAAAAAAAAAAAAAAAAAAAAAAAAAAAAAAAAAAAAAAAAAAAAAAAAAAAAAAAAAAAAAAAAAAAAAAAAAAAAAAAAAAAAAAAAAAAAAAAAAAAAAAAAAAAAAAAAAAAAAAAAAAAAAAAAAAAAAAAAAAAAAAAAAAAAAAAAAAAAAAAAAAAAAAAAAAAAAAAAAAAAAAAAAAAAAAAAAAAAAAAAAAAAAAAAAAAAAAAAAAAAAAAAAAAAAAAAAAAAAAAAAAAAAAAAAAAAAAAAAAAAAAAAAAAAAAAAAAAAAAAAAAAAAAAAAAAAAAAAAAAAAAAAAAAAAAAAAAAAAAAAAAAAAAAAAAAAAAAAAAAAAAAAAAAAAAAAAAAAAAAAAAAAAAAAAAAAAAAAAAAAAAAAAAAAAAAAAAAAAAAAAAAAAAAAAAAAAAAAAAAAAAAAAAAAAAAAAAAAAAAAAAAAAAAAAAAAAAAAAAAAAAAAAAAAAAAAAAAAAAAAAAAAAAAAAAAAAAAAAAAAAAAAAAAAAAAAAAAAAAAAAAAAAAAAAAAAAAAAAAAAAAAAAAAAAAAAAAAAAAAAAAAAAAAAAAAAAAAAAAAAAAAAAAAAAAAAAAAAAyMDIwOjEwOjE4IDE0OjUyOjE5ADIwMjA6MTA6MTggMTQ6NTI6MTkAAABMAEUATgBPAFYATwAAAP/hCxlodHRwOi8vbnMuYWRvYmUuY29tL3hhcC8xLjAvADw/eHBhY2tldCBiZWdpbj0n77u/JyBpZD0nVzVNME1wQ2VoaUh6cmVTek5UY3prYzlkJz8+DQo8eDp4bXBtZXRhIHhtbG5zOng9ImFkb2JlOm5zOm1ldGEvIj48cmRmOlJERiB4bWxuczpyZGY9Imh0dHA6Ly93d3cudzMub3JnLzE5OTkvMDIvMjItcmRmLXN5bnRheC1ucyMiPjxyZGY6RGVzY3JpcHRpb24gcmRmOmFib3V0PSJ1dWlkOmZhZjViZGQ1LWJhM2QtMTFkYS1hZDMxLWQzM2Q3NTE4MmYxYiIgeG1sbnM6ZGM9Imh0dHA6Ly9wdXJsLm9yZy9kYy9lbGVtZW50cy8xLjEvIi8+PHJkZjpEZXNjcmlwdGlvbiByZGY6YWJvdXQ9InV1aWQ6ZmFmNWJkZDUtYmEzZC0xMWRhLWFkMzEtZDMzZDc1MTgyZjFiIiB4bWxuczp4bXA9Imh0dHA6Ly9ucy5hZG9iZS5jb20veGFwLzEuMC8iPjx4bXA6Q3JlYXRlRGF0ZT4yMDIwLTEwLTE4VDE0OjUyOjE5LjU5NzwveG1wOkNyZWF0ZURhdGU+PC9yZGY6RGVzY3JpcHRpb24+PHJkZjpEZXNjcmlwdGlvbiByZGY6YWJvdXQ9InV1aWQ6ZmFmNWJkZDUtYmEzZC0xMWRhLWFkMzEtZDMzZDc1MTgyZjFiIiB4bWxuczpkYz0iaHR0cDovL3B1cmwub3JnL2RjL2VsZW1lbnRzLzEuMS8iPjxkYzpjcmVhdG9yPjxyZGY6U2VxIHhtbG5zOnJkZj0iaHR0cDovL3d3dy53My5vcmcvMTk5OS8wMi8yMi1yZGYtc3ludGF4LW5zIyI+PHJkZjpsaT5MRU5PVk88L3JkZjpsaT48L3JkZjpTZXE+DQoJCQk8L2RjOmNyZWF0b3I+PC9yZGY6RGVzY3JpcHRpb24+PC9yZGY6UkRGPjwveDp4bXBtZXRhPg0KICAgICAgICAgICAgICAgICAgICAgICAgICAgICAgICAgICAgICAgICAgICAgICAgICAgICAgICAgICAgICAgICAgICAgICAgICAgICAgICAgICAgICAgICAgICAgICAgICAgIAogICAgICAgICAgICAgICAgICAgICAgICAgICAgICAgICAgICAgICAgICAgICAgICAgICAgICAgICAgICAgICAgICAgICAgICAgICAgICAgICAgICAgICAgICAgICAgICAgICAgCiAgICAgICAgICAgICAgICAgICAgICAgICAgICAgICAgICAgICAgICAgICAgICAgICAgICAgICAgICAgICAgICAgICAgICAgICAgICAgICAgICAgICAgICAgICAgICAgICAgICAKICAgICAgICAgICAgICAgICAgICAgICAgICAgICAgICAgICAgICAgICAgICAgICAgICAgICAgICAgICAgICAgICAgICAgICAgICAgICAgICAgICAgICAgICAgICAgICAgICAgIAogICAgICAgICAgICAgICAgICAgICAgICAgICAgICAgICAgICAgICAgICAgICAgICAgICAgICAgICAgICAgICAgICAgICAgICAgICAgICAgICAgICAgICAgICAgICAgICAgICAgCiAgICAgICAgICAgICAgICAgICAgICAgICAgICAgICAgICAgICAgICAgICAgICAgICAgICAgICAgICAgICAgICAgICAgICAgICAgICAgICAgICAgICAgICAgICAgICAgICAgICAKICAgICAgICAgICAgICAgICAgICAgICAgICAgICAgICAgICAgICAgICAgICAgICAgICAgICAgICAgICAgICAgICAgICAgICAgICAgICAgICAgICAgICAgICAgICAgICAgICAgIAogICAgICAgICAgICAgICAgICAgICAgICAgICAgICAgICAgICAgICAgICAgICAgICAgICAgICAgICAgICAgICAgICAgICAgICAgICAgICAgICAgICAgICAgICAgICAgICAgICAgCiAgICAgICAgICAgICAgICAgICAgICAgICAgICAgICAgICAgICAgICAgICAgICAgICAgICAgICAgICAgICAgICAgICAgICAgICAgICAgICAgICAgICAgICAgICAgICAgICAgICAKICAgICAgICAgICAgICAgICAgICAgICAgICAgICAgICAgICAgICAgICAgICAgICAgICAgICAgICAgICAgICAgICAgICAgICAgICAgICAgICAgICAgICAgICAgICAgICAgICAgIAogICAgICAgICAgICAgICAgICAgICAgICAgICAgICAgICAgICAgICAgICAgICAgICAgICAgICAgICAgICAgICAgICAgICAgICAgICAgICAgICAgICAgICAgICAgICAgICAgICAgCiAgICAgICAgICAgICAgICAgICAgICAgICAgICAgICAgICAgICAgICAgICAgICAgICAgICAgICAgICAgICAgICAgICAgICAgICAgICAgICAgICAgICAgICAgICAgICAgICAgICAKICAgICAgICAgICAgICAgICAgICAgICAgICAgICAgICAgICAgICAgICAgICAgICAgICAgICAgICAgICAgICAgICAgICAgICAgICAgICAgICAgICAgICAgICAgICAgICAgICAgIAogICAgICAgICAgICAgICAgICAgICAgICAgICAgICAgICAgICAgICAgICAgICAgICAgICAgICAgICAgICAgICAgICAgICAgICAgICAgICAgICAgICAgICAgICAgICAgICAgICAgCiAgICAgICAgICAgICAgICAgICAgICAgICAgICAgICAgICAgICAgICAgICAgICAgICAgICAgICAgICAgICAgICAgICAgICAgICAgICAgICAgICAgICAgICAgICAgICAgICAgICAKICAgICAgICAgICAgICAgICAgICAgICAgICAgICAgICAgICAgICAgICAgICAgICAgICAgICAgICAgICAgICAgICAgICAgICAgICAgICAgICAgICAgICAgICAgICAgICAgICAgIAogICAgICAgICAgICAgICAgICAgICAgICAgICAgICAgICAgICAgICAgICAgICAgICAgICAgICAgICAgICAgICAgICAgICAgICAgICAgICAgICAgICAgICAgICAgICAgICAgICAgCiAgICAgICAgICAgICAgICAgICAgICAgICAgICAgICAgICAgICAgICAgICAgICAgICAgICAgICAgICAgICAgICAgICAgICAgICAgICAgICAgICAgICAgICAgICAgICAgICAgICAKICAgICAgICAgICAgICAgICAgICAgICAgICAgICAgICAgICAgICAgICAgICAgICAgICAgICAgICAgICAgICAgICAgICAgICAgICAgICAgICAgICAgICAgICAgICAgICAgICAgIAogICAgICAgICAgICAgICAgICAgICAgICAgICAgICAgICAgICAgICAgICAgICAgICAgICAgICAgICAgICAgICAgICAgICAgICAgICAgICAgICAgICAgICAgICAgICAgICAgICAgCiAgICAgICAgICAgICAgICAgICAgICAgICAgICA8P3hwYWNrZXQgZW5kPSd3Jz8+/9sAQwAHBQUGBQQHBgUGCAcHCAoRCwoJCQoVDxAMERgVGhkYFRgXGx4nIRsdJR0XGCIuIiUoKSssKxogLzMvKjInKisq/9sAQwEHCAgKCQoUCwsUKhwYHCoqKioqKioqKioqKioqKioqKioqKioqKioqKioqKioqKioqKioqKioqKioqKioqKioq/8AAEQgAXQG/AwEiAAIRAQMRAf/EAB8AAAEFAQEBAQEBAAAAAAAAAAABAgMEBQYHCAkKC//EALUQAAIBAwMCBAMFBQQEAAABfQECAwAEEQUSITFBBhNRYQcicRQygZGhCCNCscEVUtHwJDNicoIJChYXGBkaJSYnKCkqNDU2Nzg5OkNERUZHSElKU1RVVldYWVpjZGVmZ2hpanN0dXZ3eHl6g4SFhoeIiYqSk5SVlpeYmZqio6Slpqeoqaqys7S1tre4ubrCw8TFxsfIycrS09TV1tfY2drh4uPk5ebn6Onq8fLz9PX29/j5+v/EAB8BAAMBAQEBAQEBAQEAAAAAAAABAgMEBQYHCAkKC//EALURAAIBAgQEAwQHBQQEAAECdwABAgMRBAUhMQYSQVEHYXETIjKBCBRCkaGxwQkjM1LwFWJy0QoWJDThJfEXGBkaJicoKSo1Njc4OTpDREVGR0hJSlNUVVZXWFlaY2RlZmdoaWpzdHV2d3h5eoKDhIWGh4iJipKTlJWWl5iZmqKjpKWmp6ipqrKztLW2t7i5usLDxMXGx8jJytLT1NXW19jZ2uLj5OXm5+jp6vLz9PX29/j5+v/aAAwDAQACEQMRAD8A9+17Wk0HS/tkltNdFpo4Uhg27nZ3CKBuIHUjqayf+Euv/wDoUtW/7/Wv/wAeqTxz/wAgO0/7Cll/6UJU9c1arKDSRvSpqauyp/wl1/8A9Clq3/f61/8Aj1H/AAl1/wD9Clq3/f61/wDj1W6Kw+szNfYRKn/CXX//AEKWrf8Af61/+PUf8Jdf/wDQpat/3+tf/j1W6KPrMw9hEqf8Jdf/APQpat/3+tf/AI9R/wAJdf8A/Qpat/3+tf8A49Vuij6zMPYRKn/CXX//AEKWrf8Af61/+PUf8Jdf/wDQpat/3+tf/j1W6xtR8XaDpN2bW/1OGK4Ay0Qy7KPUhQSPxo+sTfQPYQL3/CXX/wD0KWrf9/rX/wCPUf8ACXX/AP0KWrf9/rX/AOPVHpeuaZrVi15pd7Fc2ykq0iHgEdQfSsuX4g+FIWYSa3bBVbaXGSgP+8Bj9af1ipe1hexha9zY/wCEuv8A/oUtW/7/AFr/APHqP+Euv/8AoUtW/wC/1r/8eqtqfiTR9GtI7rU7+K2t5RlJXztI+tVLTxz4YvrmO3ttbs3ll+4pk27vpnrR9YqPoHsYdzU/4S6//wChS1b/AL/Wv/x6j/hLr/8A6FLVv+/1r/8AHqt0UvrMx+wiVP8AhLr/AP6FLVv+/wBa/wDx6j/hLr//AKFLVv8Av9a//Hqt0UfWZh7CJU/4S6//AOhS1b/v9a//AB6j/hLr/wD6FLVv+/1r/wDHqt0UfWZh7CJU/wCEuv8A/oUtW/7/AFr/APHqP+Euv/8AoUtW/wC/1r/8eq3RR9ZmHsIlT/hLr/8A6FLVv+/1r/8AHqP+Euv/APoUtW/7/Wv/AMeq3RR9ZmHsIlT/AIS6/wD+hS1b/v8AWv8A8eo/4S6//wChS1b/AL/Wv/x6rdFH1mYewiVP+Euv/wDoUtW/7/Wv/wAeo/4S6/8A+hS1b/v9a/8Ax6rdFH1mYewiVP8AhLr/AP6FLVv+/wBa/wDx6j/hLr//AKFLVv8Av9a//HqZa61pt9qV1p9peQzXdnj7RCrZaPPTNXqPrM+wewgVP+Euv/8AoUtW/wC/1r/8eo/4S6//AOhS1b/v9a//AB6rdFH1mYewiVP+Euv/APoUtW/7/Wv/AMeo/wCEuv8A/oUtW/7/AFr/APHqt0UfWZh7CJU/4S6//wChS1b/AL/Wv/x6j/hLr/8A6FLVv+/1r/8AHqt0UfWZh7CJU/4S6/8A+hS1b/v9a/8Ax6j/AIS6/wD+hS1b/v8AWv8A8eq3RR9ZmHsIlT/hLr//AKFLVv8Av9a//HqP+Euv/wDoUtW/7/Wv/wAeq3RR9ZmHsIlT/hLr/wD6FLVv+/1r/wDHqP8AhLr/AP6FLVv+/wBa/wDx6rdYWueLdP0G5W2mS4ubkxNOYLWIyOsY6uR2FH1mYewiaX/CXX//AEKWrf8Af61/+PUf8Jdf/wDQpat/3+tf/j1TW06XVrFcRZMcqB1yMcEZFS0fWJroHsYMqf8ACXX/AP0KWrf9/rX/AOPUf8Jdf/8AQpat/wB/rX/49Vuij6zMPYRKn/CXX/8A0KWrf9/rX/49R/wl1/8A9Clq3/f61/8Aj1W6KPrMw9hEqf8ACXX/AP0KWrf9/rX/AOPUf8Jdf/8AQpat/wB/rX/49Vuij6zMPYRKn/CXX/8A0KWrf9/rX/49R/wl1/8A9Clq3/f61/8Aj1W6KPrMw9hEqf8ACXX/AP0KWrf9/rX/AOPUf8Jdf/8AQpat/wB/rX/49Vuij6zMPYRKn/CXX/8A0KWrf9/rX/49XSW8pntYpXiaFpEDGNyCyEjODgkZHsSKxq2of9RH/uj+Vb0aspt3MqtNQWhz3jn/AJAdp/2FLL/0oSp6g8c/8gO0/wCwpZf+lCVPWOK+JGlDZhWXe+JtD026+zahrFjbTjGYprhVYfUE1qVjapbaTpOnarqN3FGqTxl7lnGd+FwB/TFcp07mtHLHNEskLq6MMqykEEeoNPrj/hZpt7pXw70+31FXSUl5FjfrGjOWVfwBHFdhVSXLJomLurhRRRUjCvF/Bview8EeLdd0XxxE1jfX+oPcQ6hOn7u4Rvujf2A/LmvU/Eusjw94bvdVZPMFtHv2881geLNQ8Ha94Inm1q4sbu0eAtGQ6s27HGzvuz6VcXa7tdCkr2Vxvi/w5I3w11608J5NzqCvcLsYfvCxBYKR6gYH1rG8CeKfCvinwrH4TnjGnX8dsLafT5k8uTIGCVyOfX1qP4fa7L4S8I+F9I8TP9ma+SZle6baYlBzGhJ7kHoarfFqy0fV7jSDoPkzeJzfRG3ktCDIEB+YsV/hA7mteW0uR7N7/gZc14863X/Dln46SR2vw7s9JhIT7ZeQ2y7j0UH/AOtUPxTutBuvh8NA0lra+1ibyorCC1IeVWDD5vl5UAA81D8SZrTV/iR4K0G7mglijma4uldgV+UdGB9fQ0urWlp8PfjPpWr2sENpo+uxGznEaBEikH3W44Hb9aILRJ9W393/AAwSdm2uiX4np+hwXFroFhBfNvuY7dFlYnOWCjNX6ajrIgeNgysMhgcg06sG7u5rFWSQUUUUhnL+PPFs3gzRY9TSyW8hM6Qum/aw3HAx61maj8Qr3Q7e/u9c8PzWdtGkf2P94Ga5d2KhOOAenfvVP44yInw+RXdVJv7cgE4z84qH4z2kmofD60u7UPPDZXkFxN5ByfLB+YjHpmtYJNK/e35ESbvZdr/maz+NdV0fWNItfFGl29tBq7+VDLbTF/KkIyFcEDr6ipm8Y3+p+LNR0Pw1YQTvpar9qnupSihmGQqgAkms2x0jwRr8ml3S63JqEkcqT2scuoF8OOR8pPWubvPEWn+GPiz4hey1yz0hriOL7SmpwsVlkwfmjwRwBj60+VN2trr/AF/XkTzO179v6/rzOq8J+M9Y1+08QXN1a2sE2lTtbiyVicMoySX757cdqZofxF1PW9N0zVI/DkkWmXLMLm6aYEQhd2SAOSPl6nHWofBC+Hrbwvrs2k+ILbV7q7aW5vriNgAHZTj5f4R6VX+HMB1P4CrY2sitPLa3MYAbkFmcClJJJu21vy1GrtpX3b/4BZ/4WNq0/hefxVZaJC+hQszDfORPJEDguFxj3xmtO78dNc6tpOmeHLeG5udTtDeo9zIURIvwBJPPSuE+Hln4W1D4fQ6Xr+r3FpdW6tb3tjNfGIKQTkbCehrptc8LeDdTm0zRGvJdMvdPsw+n3kNx5brFnGFbPzdOlXKMIyt/W39MmMpON/63/pG/P4pvNG8J6pq/iXT1tn08t8kD7lmAAwVJA6k4pNJ1vxJdzadLe6TZrY3y7jJbzl2hBXcu7IwfTiuT8L6w0vhPxNYeNLs6zo1hc/ZVvmUfv4jgHJHBwTyR6VTt7J/A3jHw/aeEPEM+o6VqU5jl0yWYTCGPGd6nqoFSoq9vT8huTtf1Or8Mava3HxC8RacdGtbO/tlie4u4Tk3AYcZ4zwKLLxlq/iO41BvCmmWs9lYzNB593OU891+8EAB47ZNY3heeCX42eM1SeMmS3t1TDj5jt7UnwlvbXw74f1XRtZuI7O8sL+ZpVncISjNkOM9QR3pcqtfyQ7u9vP8AQ2Lf4iC+8Cajr1nYhbrS2eO8spnwY3T7wBHX2rO1H4ka9p/hWy8Tt4chOjTRxSTMLvMqK+OQuMd/WuY0eJz8OPiHrUg8q01W4nktN/y+YgGNwz6n+VX/ABJcQn9l+3AmQk6daqBuHUFMj61XKk9v5fx3Em3pf+b8Hoeu286XVrFPFykqB1+hGRXMa14uurfxhbeGdEtIZ9QltzdO9zKUjRAcdgSSTW3oDrJ4c05o2DL9mj5U5H3RXE+MNN8NeK7m8uTqp0fW9DYxpexzCN4/lDcjPzLz/Os7JTaeyLTbgn1Zf1vxprHhzwZeazq2kQJPaXAhMKzHbKpIAZSR3Jq94p8ZN4a8L2WptZ+dPeTQwpb78fNIR39s15nr+valrvwe8MSeJG8trzV4Y7i4dditGrHDn0zgGtrxzr2neI/Gng7RNOnWe2XUPPlnQ/uj5a/dDdCeR09q1VPVJ9/wVjNz0uu346nT+JvHc3hzxVpGkf2abs6ojFBC2ZAVHTHTrgZqlY/EPV5/Euo+HLjw8o1e3RJYIobjdGyN3d8fLjjP14qD/kKftDf3k0jSP++Xkb/AVH4LnWXxd4+8QvykdyLdGP8Adijyf1NQlFRu10b/ABsim3zWXdL8LnSeBPF03i3Tb2S8slsrqxu3tJo0feu5ccg9xzR4i8XSab4gsPD+kWi3urXytIqSPsjijXq7Hk/hWJ8E4w3w++2lg0l/eT3L4OT8zkDP4AVW1sf2L8edK1jUW8qwvdOe0Sd+ESXIO0ntnFNxXtOX+r2/zBSfI3/Vr/5G7Y+MbyDxhF4a8S2MNpd3UJmtJreQvFMB95eQCCK5G1vdef49ax5Om20kq6ZEnlSXOAse7rnb1PpV3xA6eIvjZ4Yj0h1uF0mKae8liO5Yw2AqkjucdPenaVd2w/aI1zNxEN2lQqPnHLbun1pxS0duj/UUnuvNfoemqNqgYAwOg7Vx7eLtU1PxJquk+GrC0mOk7FuHu5im92GcKAD+Zrsa8u8S6D4d1jV9W1nSdem8Pa9Ykx3E0U4TeVGQXQn5h05rKNr6mjvbQ6fW/Go8O+DbXVtVsJEvrrZFHYIfmaZuiZ/rWR4g8aeJvDVpptxqmkaeqX15Fa7Y7hmaMv68YPANcd4i1HV9V+GfgzxRrcLu1hqUc96VTGYw+BJj3AB/Gtn4q+INJ1jR/Dg0vUra7LazbuBDKGO3nnArZQXMk19q35GTn7ra7X/M7CTxbPB8SbfwtNZpsubVrmO4WTnC8YIxTdN8XXN14+1HwzdWUcbWdstys0cmd6scAYxwa5rxLfW2j/HrQb3VJ0tbWTTJolmlbahfOcZPGazDr0a/FvxVqWiTw3ckegq0Gxgwd1ycD1qFFcqfk/wuW27tea/Gx0useONf8P6MNb1bQ7ePTROI3RZz56IW2hsEY98Vd8R+OLjQfEGjafDpZvo9X3CExSAPuC7sYPH615Z4k1Kx1j4KrqF54jmv9YufLea3a5GFbeMr5Y6AV1/i26t/+E++HbefHtDyEneMAeVV+zSdn3a/Ajn0bXa5uXvj+90fQWutb0N7bUJr4WdnZLJu89m+6d3THqR6VYg8Y6hYeLLDQvE+n29tJqUTPazWspdSy9UbIHNc/wDGu0LWXh3VX842On6mkl08BIZIzxvyOmPX3rX03RfBuo6zp2pWurvqV5bZktN9+ZSuRyQM+lTFRceZr+rFS5k7J/1cSy8a65rtnfaj4c0i1ubG0uHgVJZyJpihwxAAwPYGu5Ri0asw2kgEj0rxbxBp2j6fo1/4y8A+IZtJvd7SyWKzAxzyhsFDF2Yn09a9e0e5uLzQ7K5vY/KuJoEeVMY2sVBI/Opkly3Q03zWZdrah/1Ef+6P5Vi1tQ/6iP8A3R/Kt8LuzLEbI57xz/yA7T/sKWX/AKUJWP4p8X2HhGK0m1WObybqZYFkjAIVj0zk9K2PHP8AyA7T/sKWX/pQleefEmNNX8deC9ClRZIpLx7uVCMgrGvcfU1VdXqRQqTtCTOo0Pxla6/rE1jaWN9GscQmS5nh2RyqTjK5OT+VYOvx+MLrxQ7jwzb6rpVswNpG2pLCrN/fdSpyc9M8Cu+CKuNqgYGBgdqdXJdJ3SOizaszO0S61O800S63pqabdbiDBHcCYAdjuAH5VavL220+0kur6dLeCMZeSRsKo9zU9UdaMg0e4MGnrqMm35bVmAEnPTJ4qXqxozf+E88Kf9DDp3/gQv8AjV7TPEWj61I8ek6nbXjxjLrDIGKj3xXHebqv/RNLX/v/AA/4Vu+F3vGup/tfhWHQxsGJI5EbzOeny1o4q3/DEczOldFkQo6hlYYIIyDWbF4b0SG5+0Q6RYpNnO9bdQQfyqtq2i6rfXvnWHiO506LaB5MVvE4z65YE1S/4RnxB/0Ol9/4CQf/ABNSvUp+h0V3Y2l/D5V9bQ3Ef9yWMMPyNQ2OjaZphJ07T7a1LdTDCqk/iKw/+EZ8Qf8AQ6X3/gJB/wDE0f8ACM+IP+h0vv8AwEg/+Josu4fI2pdC0iaZpZtLspJGOWd7dCxPqTip7mwtL2JYry1huI1OVSWMMB+Brnv+EZ8Qf9Dpff8AgJB/8TR/wjPiD/odL7/wEg/+Josu4X8jp44khjWOFFjRRhVUYAHoBVHU9e0nRTGNW1G3s/Mzs8+QLux6ZqrpGj6pYXbS6h4hudSjK4EUsEaAH1yoBqv4pe7Vrf7J4Zi1zruMkiL5f/fXrS6j6Dv+E88Kf9DDp3/gQv8AjWxYahaapZrdadcx3Nu+dssTblODg81wnm6r/wBE0tf+/wDD/hXY6AZm0aI3GlppUmTm1RlYJz6rxz1qnFJEpu5ZvNOstQCi/s4LkL90TRB8fTNSRWsENuLeGGOOEDAjVAFx6Y6Vz03hzXpJ3ePxhexIzEqgtYSFHpytM/4RnxB/0Ol9/wCAkH/xNKy7jv5G1a6FpNlcGez0y0gmPWSOBVb8wK4qLTbqx8Tazc+I/Dcmt/apw1pcxRJKEhAwEwxBXBzW3/wjPiD/AKHS+/8AASD/AOJo/wCEZ8Qf9Dpff+AkH/xNUtOonr0Mfw34OMnjjUfENzo0GlWNxaLax6eVUmTByXdV+UemK7i006y08MLC0gtg33hDEEz+Vc//AMIz4g/6HS+/8BIP/iaP+EZ8Qf8AQ6X3/gJB/wDE0N36iSt0NmbQdIubv7VcaZZyz9fNeBS354p97o+m6iFF/YW1zsGF82FW2j2yKw/+EZ8Qf9Dpff8AgJB/8TR/wjPiD/odL7/wEg/+JqbeZXyOhSws47P7IlrCttjHkiMbMfTpUNnoml6dI0lhp1rbOwwzRQqpI/AVif8ACM+IP+h0vv8AwEg/+Jo/4RnxB/0Ol9/4CQf/ABNFvMPkbkOjaXb3Ang020imByJEgVWH4gUl5oul6jMst/p1rcyL0eWFWI/EisT/AIRnxB/0Ol9/4CQf/E0f8Iz4g/6HS+/8BIP/AImj5h8jopbG0ntRbT2sMsAxiJ4wVGPY8VCdG0trZbdtNtDAp3LEYF2g+uMYrD/4RnxB/wBDpff+AkH/AMTR/wAIz4g/6HS+/wDASD/4miy7h8jpYIIbaFYraJIY1+6kahVH4Cql1oWk3twJ7zTLSeYc+ZJArN+ZFYv/AAjPiD/odL7/AMBIP/iaP+EZ8Qf9Dpff+AkH/wATRbzD5HQXWnWd7Z/Zby1hnt+P3UkYK8dOKZ/Y+m7IU/s+12wf6oeSv7v/AHeOPwrC/wCEZ8Qf9Dpff+AkH/xNH/CM+IP+h0vv/ASD/wCJot5h8jpEtbeO4edII1mkADyBAGYDpk9TSR2dtFHIkVvEiSktIqxgByepPrXOf8Iz4g/6HS+/8BIP/iaP+EZ8Qf8AQ6X3/gJB/wDE0WXcLvsdFa2NpYxlLK2htkJyVhjCAn6ClurO2voDDe28VxE3VJUDA/ga5z/hGfEH/Q6X3/gJB/8AE0f8Iz4g/wCh0vv/AAEg/wDiaLLuF/I37LTbHTYzHp9nBaoTkrDGEB/Ko/7E0r7R5/8AZln527d5n2dd2fXOM5rE/wCEZ8Qf9Dpff+AkH/xNH/CM+IP+h0vv/ASD/wCJp/MXyOprPudB0i9uPtF3plnPNnPmSQKzfmRWN/wjPiD/AKHS+/8AASD/AOJo/wCEZ8Qf9Dpff+AkH/xNKy7jv5HTNBE8BheNGiI2lCuVI9MV5v8AEfwsZbTSYPDGgAvDqUV1O1rCqDYuc5PGTz0rov8AhGfEH/Q6X3/gJB/8TR/wjPiD/odL7/wEg/8AiaqPuyTTFLVNWN250+x1WCP+0bGGcDDKlxEG2n8ehpV0rT0mSVLG2WVBtVxCoZR6A44rB/4RnxB/0Ol9/wCAkH/xNH/CM+IP+h0vv/ASD/4mpsu4fI2Y9B0iHzfK0uzXzv8AWYt1+f68c0r6FpEpQyaXZuUGE3W6naPQccVi/wDCM+IP+h0vv/ASD/4mj/hGfEH/AEOl9/4CQf8AxNP5j+R0zwxSQmF40aIjaUK5Uj0xVSz0XS9OkaSw061tnbq0UKqT+IFYn/CM+IP+h0vv/ASD/wCJo/4RnxB/0Ol9/wCAkH/xNKy7h8jY/wCEf0f7X9q/sqz+0Zz5v2dd2fXOOtaNct/wjPiD/odL7/wEg/8AiaP+EZ8Qf9Dpff8AgJB/8TRZdw+R1NbUP+oj/wB0fyrltIsbuwszFf6lLqUpcsJpY1QgemFAH/666mH/AFEf+6P5V04b4mc9fZHPeOf+QHaf9hSy/wDShKrzaJp1xrdvq81qj39tG0cM5JyinqAOlWPHP/IDtP8AsKWX/pQlT0YnSSHQ+FhRRRXIdAUUUUAFFFFABXMTeO7E6pdWGlWOoavPZtsuTYwhlib+6WYgZ9gTXT14vp2tal8H9b1S18R6XNc6BqF891Fqlsu7yy/Zx/n8auEVJ2Jk2lc9FtfHOkTeHbvWrsz6fa2crRTi8i2Ojj+Hbzk8jpVOT4iW0FvFdXGha3DZzOqpcvagJ8xwCRu3AHI6is3xx4fTxv8ADdm8HSQO806X8JU/JcMDkgn1P8xUPhf4jWHiO7Twz4u0uTSdaXH+iXK/u5mXnKHvyM4qlFO+mq6EuVra6dzpdQ8ZW9jq8unQ6Zqd9NDGskptLfeqBs4BORzxWPY/FjStS02fULDSNbuLS3ZllljtAVUr1/i7V0HiCS30Lw7rWrRRrHL9meWRx1cqmFz+QFcr8GdIji+ENjHdRh1vxJNKrfxBmPX8BSik4t9rfiU200u53tldpf2EF3CGWOeMSKHGCARkZFT02KNIYUiiUKiKFVR2Ap1Q7X0KV7ahRRRSAKKKKACiiigApFYOuVIYeoNct8StXvNC+H+qajp1wlvPDF8rMm7rxgcjB561zlrrWofDv4Z6c+o3A1S9ukigsbQReWTK4zhmyc8nJNUotq69BOVnY9NpGcKMsQBnHJrzvxHrPivwZ4eh8Q6rqNtexpLGLyxS2CKquwB2P97Iz3zmqXje81fWPiD4V0XStSS2t7gNfEeRuK7BwW+b5hk9OKpQba/rzE52Vz1KiuL1DxJqjeIrXwlossM2qC3E99fyRfJbp0yEB5YnoM4qpouu68Pird+GrzUY7+ztLEXMkv2ZY3DMQAvHHfNJRb/rsDkl/Xc2ND8YSax4w1jQJNPED6UELzrPvV93IGNowcV09eb/AAn/ANP1Lxdrh5F7q7xxt6pHwK3fiL4ouPCXhQ6hZhBI88cHmyKWSEM2C5HcCiUdUl5fewT3b8/wOrorldHXW55fOTxJb6rp81udsyQRho5cjBG3gjGeDWZ4J8Taz4m8Cajf3VzHFe211PEkqQjGE6ZWk42TfYale3md7RXlTePNfk+Bq+Lo5oE1CPLOPJBRxv24x2pfFfiPxt4Z0nTfER1PTrmzuJoY5bEWZTaJO+/cSf0qvZu9vOxPOrX+Z6pRXmuva74v8J+IdCn1LU7G/wBN1S9W0ktorPyjEW6EMWJP416PPMlvbyTSnCRqWY+gAzUuNlcpO7sPqK5uY7S1lubhtkUKF3Y9gBk1wHhvV/FHjjRLjXtO1SHSrZ5ZFsbb7Ksu5VJAaRjzyR2xVdvFGoeMfg7q12rQ2N9bJPb3qeWXXcgIYLyMZ9eaJRaT8gjJNo6Pw34svvEM1rcLo5h0q9iaW2uvO3MQDxuXHy5HI5NdTXC/CS21OL4f6NLd6hHPaPYx+TAtvsaPju2Tu/IV1+qXjafpF3eJEZWt4WkEY6sQM4p1UoyaXQmm3KKfct0V514Q1zXvFWk6frNn4is52lkVrrTVgQCFM/MufvAgdz1qwniLWvE/jvVNE0C7j02x0cKtzdGESySysM7VB4AFDg07DU01c72ivOfDWva/ea94x0u+1NZm0ny1tphbquMoWJKjg1L4f8Vazrfwfl8QyXEUOoRRzyblhBVvLZsDafXFJxsr+n4jUrux6DRXHaJrGu+Ivhjpup2c1vDql5FG7yug2IC3zNt9lzxVC08SavpnxMsfDd9qkOrWuoWkkyzLEqPC6Z4+Xgg4p8j5nHqr/gLnXKpdP8z0CivMbXxD421fxB4p0TR7jTvM0mRFhnniIY7lJ27RxnjGT09Kls/FeseJfEeq6faaxa6NBpG2B5HjR3nn25b73AUHjijkf6hzJO3yPSaK8l/4WrqH/CvZNQkFvFfwaoNMuLoLmGP5sebj0xzj1rt/D41dr7zpddg1nTJYcpIkSIyyZ9U4IxQ4Nav+uocyf9fI6OiiioKCiiigArah/wBRH/uj+VYtbUP+oj/3R/KuvC7s58RsjnvHP/IDtP8AsKWX/pQlT1B45/5Adp/2FLL/ANKEqeliviQUNmFFFFcp0BRRRQAUUUUAZPii8v7DwxfXWkQPcXscRMUaLuZj7DvXO6l430rUfDc9uunahe3c8BT7A1hIGLEYw2VwBnvmu4pMCnpazDW90eU+CptS+HOm6Vouv2t0LFrRpHlgt2mSGZnJ2kqCRhfwqbxNAvj7xj4cOh2Nx5WmXX2m51KW3aIKgH3FLAFiT/KvUaTGOlae0vLntqZ8lo8vQ8/+MWpyDwDqWk6dbXl1f3caosdvaySfKW5OVBHQetdF4I+zxeDdMtbUSqLW2jhYSQvGQwUZ4YA9a36KhStHlLavJMKKKKkYUUUUAFFFFABRRRQBwHxmt7q68A+Ta201xG15CbhYULsIg4LHA5NZ/jeCbWrHwt4g0qyu57TR9QSaa3MDLI0fALBDycYr0+irjPlt5O5Mo833WPMfGU0/xHjsvDmg21z9gkuEm1C9ngeJEjU52DcASxPpTL1m0n46QXd7ZXj2cWkLb2ckFu0ilyxyMgYBx616hjHSlpqdtF5/irCcb7+X4O55Na38/hL4zeILrVdNv57fWIYTZz21u0oO0YKHHTml8HT30nijx3r19pt5a3cihbaGSBssiIcbTjByccCvV8UtLm923lYfLrfzucH8HLU2Xw5tYJ4pobsySS3Ec0LxsrsxP8QGeMVv+Lb63sdIT+0NMfUrKeZYbmJITLtQ5yxUA5A4rdopSlzS5gjHljY8m8MaJaWPxRin8CwXltoT2j/b0eORIPM/gCBwOfp0qDwHqcnhvRdc8N6lpWpi/N7cPGIrR3SRX+6Q3TH416/jHSjFU53Vn2t+NwUbO673/Cx4UkN0v7NMukNYXw1E5j+zfY5d+7fu6bfTv0re+JMzaj8LtItrG2vJ5/tFs/lJaSlgEI3Ejbxj3r1iiqdW8ua3W5Ps9LeTX3nl/wAT7n+0B4Taxt7y4EOqQ3Mnl2krbIxkFj8vH0616PcxLqGmTQgkJcQsmSCDhhjofrVmis2048paTUuY8u8B6t/wg3g+Tw9r9nex3unyyiFYrV5BcqWLKUKgg5zUGh6Ne6D8HddbVbWaO+1eS4uBaxxNI6mTO1cKDzXq+KWnKfNe/UUY8rVuhx/wunH/AAr3SLKSK4hubS0SOaKeB4yjY6fMBn8K6bUrh7TS7m4igNw8UTOsI6yEDO38atUUpy5pN9xwjypLseKa5pej6jf6VqngLTL7TfET3cTzrDbSwqqE/vPNBAXpn61q6ZcT+APiZ4jfV7G8k07W3S5t7u2t2lUOByrbQSOSa9VxQRx61ftOnT/hv8ieT+v69TyvwDMNU8d+P5IEkQXDRbFlQo3MZAyDyKzPCeqS6b8LNS8KXekaqNVhjuo/LWzcq24sQQ3Qjmuz8J+GdY0jxr4g1fURaeRq7o6rDKzNGVGAOVGc12mKJSVrd0vwQRTvfs2eIXUeop8IfB8JstQazs7mJdXtY4JFkMYPIK4BI+lX0+wt8XfDmq6Lol5Z6XHaTRPN9geNd5BxkYyOvU17DRT9rq3bv+KsL2eiXp+DPM/Ak2z4o+MpJYLqOO+niNtJJbSKsoVSGwxGKx7PT7Hwj8QPES+KdClvLHVLgXVpepZmdRkfMhwCQc17JSYz1qVOz+Vv6+4pxvf1ucXd3mg2fhiNrfw276Te3Hl3MAsCCFI/1hjxkjgdq53wjotrp/xQM/gmG8t/Dz2bfbEkSRIfNz8uwPjnr04r1ekxjpSU7A43VhaKKKgoKKKKACtqH/UR/wC6P5Vi1tQ/8e8f+6P5V14XdnPiNkY/izS73VtFSHSxbm5iuoLhFuZGRG8uVXILKrEZC+hrL8jxl/0C9C/8Gs3/AMjV19FdUqcZu8kc8Zyjsch5HjL/AKBehf8Ag1m/+RqPI8Zf9AvQv/BrN/8AI1dfRU+wp9ivaz7nIeR4y/6Behf+DWb/AORqPI8Zf9AvQv8Awazf/I1dfRR7Cn2D2s+5yHkeMv8AoF6F/wCDWb/5Go8jxl/0C9C/8Gs3/wAjV19FHsKfYPaz7nIeR4y/6Behf+DWb/5Go8jxl/0C9C/8Gs3/AMjV19FHsKfYPaz7nIeR4y/6Behf+DWb/wCRqPI8Zf8AQL0L/wAGs3/yNXX0Uewp9g9rPuch5HjL/oF6F/4NZv8A5Go8jxl/0C9C/wDBrN/8jV19FHsKfYPaz7nIeR4y/wCgXoX/AINZv/kajyPGX/QL0L/wazf/ACNXX0Uewp9g9rPuch5HjL/oF6F/4NZv/kajyPGX/QL0L/wazf8AyNXX0Uewp9g9rPuch5HjL/oF6F/4NZv/AJGo8jxl/wBAvQv/AAazf/I1dfRR7Cn2D2s+5yHkeMv+gXoX/g1m/wDkajyPGX/QL0L/AMGs3/yNXX0Uewp9g9rPuch5HjL/AKBehf8Ag1m/+RqPI8Zf9AvQv/BrN/8AI1dfRR7Cn2D2s+5yHkeMv+gXoX/g1m/+RqPI8Zf9AvQv/BrN/wDI1dfRR7Cn2D2s+5yHkeMv+gXoX/g1m/8AkajyPGX/AEC9C/8ABrN/8jV19FHsKfYPaz7nIeR4y/6Behf+DWb/AORqPI8Zf9AvQv8Awazf/I1dfRR7Cn2D2s+5yHkeMv8AoF6F/wCDWb/5Go8jxl/0C9C/8Gs3/wAjV19FHsKfYPaz7nIeR4y/6Behf+DWb/5Go8jxl/0C9C/8Gs3/AMjV19FHsKfYPaz7nIeR4y/6Behf+DWb/wCRqPI8Zf8AQL0L/wAGs3/yNXX0Uewp9g9rPuch5HjL/oF6F/4NZv8A5Go8jxl/0C9C/wDBrN/8jV19FHsKfYPaz7nIeR4y/wCgXoX/AINZv/kajyPGX/QL0L/wazf/ACNXX0Uewp9g9rPuch5HjL/oF6F/4NZv/kajyPGX/QL0L/wazf8AyNXX0Uewp9g9rPuch5HjL/oF6F/4NZv/AJGo8jxl/wBAvQv/AAazf/I1dfRR7Cn2D2s+5yHkeMv+gXoX/g1m/wDkajyPGX/QL0L/AMGs3/yNXX0Uewp9g9rPuch5HjL/AKBehf8Ag1m/+RqPI8Zf9AvQv/BrN/8AI1dfRR7Cn2D2s+5yHkeMv+gXoX/g1m/+RqPI8Zf9AvQv/BrN/wDI1dfRR7Cn2D2s+5yHkeMv+gXoX/g1m/8AkajyPGX/AEC9C/8ABrN/8jV19FHsKfYPaz7nIeR4y/6Behf+DWb/AORqPI8Zf9AvQv8Awazf/I1dfRR7Cn2D2s+5yHkeMv8AoF6F/wCDWb/5GrqrUSizhFyqJMI18xY2LKGxyASASM98D6CpaKqNOMPhJlOUtz//2Q==)\n",
        "Didalam pemodelan ini, nilai r2 diperoleh sebesar 0.521. Dimana 0 < r2 < 1 nilai r2 model penjualan pie ini termasuk Weaker linear relationships\n",
        "antara X dan Y.\n",
        "*   T test = T test dihitung dengan menggunakan rumus :  ![image.png](data:image/png;base64,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) Dimana b1 adalah nilai coef, Sb1 nilai std err.\n",
        "*   P>|t| = nilai p-value memiliki arti bahwa ada cukup bukti bahwa price dan advirtising mempengaruhi pie_sales.\n",
        "*   F-statistic = dapat diperoleh menggunakan rumus : ![image.png](data:image/png;base64,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)\n",
        "\n",
        "\n",
        "\n",
        "\n"
      ]
    },
    {
      "cell_type": "markdown",
      "metadata": {
        "id": "ujkhfiq4wivS"
      },
      "source": [
        "Dari semua langkah-langkah diatas, model penjualan pie dengan menggunakan sklearn dan statsmodel berhasil dibuat."
      ]
    },
    {
      "cell_type": "markdown",
      "metadata": {
        "id": "0gEEMcTMwpzF"
      },
      "source": [
        "Referensi :\n",
        "\n",
        "*   https://github.com/rc-dbe/dti\n",
        "*   Modul 4: Regression by\n",
        "Dr. Nurvita Trianasari, S.Si, M.Stat.\n",
        "\n"
      ]
    }
  ]
}